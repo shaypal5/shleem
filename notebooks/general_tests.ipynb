{
 "cells": [
  {
   "cell_type": "code",
   "execution_count": 1,
   "metadata": {},
   "outputs": [],
   "source": [
    "import shleem"
   ]
  },
  {
   "cell_type": "code",
   "execution_count": 2,
   "metadata": {},
   "outputs": [],
   "source": [
    "shleem_test_server = shleem.mongodb.server(\"shleem_test_server\")"
   ]
  },
  {
   "cell_type": "code",
   "execution_count": 3,
   "metadata": {},
   "outputs": [
    {
     "data": {
      "text/plain": [
       "MongoDB server DataSource: shleem_test_server"
      ]
     },
     "execution_count": 3,
     "metadata": {},
     "output_type": "execute_result"
    }
   ],
   "source": [
    "shleem_test_server"
   ]
  },
  {
   "cell_type": "code",
   "execution_count": 4,
   "metadata": {},
   "outputs": [
    {
     "data": {
      "text/plain": [
       "shleem.mongodb.mongodb.MongoDBServer"
      ]
     },
     "execution_count": 4,
     "metadata": {},
     "output_type": "execute_result"
    }
   ],
   "source": [
    "type(shleem_test_server)"
   ]
  },
  {
   "cell_type": "code",
   "execution_count": 5,
   "metadata": {},
   "outputs": [
    {
     "data": {
      "text/plain": [
       "'shleem_test_server'"
      ]
     },
     "execution_count": 5,
     "metadata": {},
     "output_type": "execute_result"
    }
   ],
   "source": [
    "shleem_test_server.identifier"
   ]
  },
  {
   "cell_type": "code",
   "execution_count": 6,
   "metadata": {},
   "outputs": [
    {
     "data": {
      "text/plain": [
       "'shleem_test_server'"
      ]
     },
     "execution_count": 6,
     "metadata": {},
     "output_type": "execute_result"
    }
   ],
   "source": [
    "shleem_test_server.server_name"
   ]
  },
  {
   "cell_type": "code",
   "execution_count": 7,
   "metadata": {},
   "outputs": [],
   "source": [
    "client = shleem_test_server._get_connection()"
   ]
  },
  {
   "cell_type": "code",
   "execution_count": 8,
   "metadata": {},
   "outputs": [
    {
     "data": {
      "text/plain": [
       "MongoClient(host=['ds149954.mlab.com:49954'], document_class=dict, tz_aware=False, connect=True, authsource='shleem_test')"
      ]
     },
     "execution_count": 8,
     "metadata": {},
     "output_type": "execute_result"
    }
   ],
   "source": [
    "client"
   ]
  },
  {
   "cell_type": "code",
   "execution_count": 9,
   "metadata": {},
   "outputs": [
    {
     "data": {
      "text/plain": [
       "{'_id': ObjectId('59e8a02a297efbb3162667f1'),\n",
       " 'address': {'building': '469',\n",
       "  'coord': [-73.961704, 40.662942],\n",
       "  'street': 'Flatbush Avenue',\n",
       "  'zipcode': '11225'},\n",
       " 'borough': 'Brooklyn',\n",
       " 'cuisine': 'Hamburgers',\n",
       " 'grades': [{'date': datetime.datetime(2014, 12, 30, 0, 0),\n",
       "   'grade': 'A',\n",
       "   'score': 8},\n",
       "  {'date': datetime.datetime(2014, 7, 1, 0, 0), 'grade': 'B', 'score': 23},\n",
       "  {'date': datetime.datetime(2013, 4, 30, 0, 0), 'grade': 'A', 'score': 12},\n",
       "  {'date': datetime.datetime(2012, 5, 8, 0, 0), 'grade': 'A', 'score': 12}],\n",
       " 'name': \"Wendy'S\",\n",
       " 'restaurant_id': '30112340'}"
      ]
     },
     "execution_count": 9,
     "metadata": {},
     "output_type": "execute_result"
    }
   ],
   "source": [
    "client['shleem_test']['example_data_collection'].find_one()"
   ]
  },
  {
   "cell_type": "code",
   "execution_count": 10,
   "metadata": {},
   "outputs": [],
   "source": [
    "test_db = shleem_test_server['shleem_test']"
   ]
  },
  {
   "cell_type": "code",
   "execution_count": 11,
   "metadata": {},
   "outputs": [
    {
     "data": {
      "text/plain": [
       "MongoDB database DataSource: shleem_test_server.shleem_test"
      ]
     },
     "execution_count": 11,
     "metadata": {},
     "output_type": "execute_result"
    }
   ],
   "source": [
    "test_db"
   ]
  },
  {
   "cell_type": "code",
   "execution_count": 12,
   "metadata": {},
   "outputs": [
    {
     "data": {
      "text/plain": [
       "'shleem_test_server.shleem_test'"
      ]
     },
     "execution_count": 12,
     "metadata": {},
     "output_type": "execute_result"
    }
   ],
   "source": [
    "test_db.identifier"
   ]
  },
  {
   "cell_type": "code",
   "execution_count": 13,
   "metadata": {},
   "outputs": [
    {
     "data": {
      "text/plain": [
       "'shleem_test'"
      ]
     },
     "execution_count": 13,
     "metadata": {},
     "output_type": "execute_result"
    }
   ],
   "source": [
    "test_db.db_name"
   ]
  },
  {
   "cell_type": "code",
   "execution_count": 14,
   "metadata": {},
   "outputs": [],
   "source": [
    "examp = test_db['example_data_collection']"
   ]
  },
  {
   "cell_type": "code",
   "execution_count": 15,
   "metadata": {},
   "outputs": [
    {
     "data": {
      "text/plain": [
       "MongoDB collection DataSource: shleem_test_server.shleem_test.example_data_collection"
      ]
     },
     "execution_count": 15,
     "metadata": {},
     "output_type": "execute_result"
    }
   ],
   "source": [
    "examp"
   ]
  },
  {
   "cell_type": "code",
   "execution_count": 16,
   "metadata": {},
   "outputs": [],
   "source": [
    "queens_restaurants = examp.query({\"borough\": \"Queens\"}, identifier=\"queens_restaurants\")"
   ]
  },
  {
   "cell_type": "code",
   "execution_count": 17,
   "metadata": {},
   "outputs": [
    {
     "data": {
      "text/plain": [
       "shleem.mongodb.mongodb.MongoDBQuery"
      ]
     },
     "execution_count": 17,
     "metadata": {},
     "output_type": "execute_result"
    }
   ],
   "source": [
    "type(queens_restaurants)"
   ]
  },
  {
   "cell_type": "code",
   "execution_count": 18,
   "metadata": {},
   "outputs": [
    {
     "data": {
      "text/plain": [
       "MongoDB query DataSource: shleem_test_server.shleem_test.example_data_collection.queens_restaurants"
      ]
     },
     "execution_count": 18,
     "metadata": {},
     "output_type": "execute_result"
    }
   ],
   "source": [
    "queens_restaurants"
   ]
  },
  {
   "cell_type": "code",
   "execution_count": 19,
   "metadata": {},
   "outputs": [
    {
     "data": {
      "text/plain": [
       "{'borough': 'Queens'}"
      ]
     },
     "execution_count": 19,
     "metadata": {},
     "output_type": "execute_result"
    }
   ],
   "source": [
    "queens_restaurants.query"
   ]
  },
  {
   "cell_type": "code",
   "execution_count": 20,
   "metadata": {},
   "outputs": [
    {
     "data": {
      "text/plain": [
       "'MongoDB'"
      ]
     },
     "execution_count": 20,
     "metadata": {},
     "output_type": "execute_result"
    }
   ],
   "source": [
    "queens_restaurants.source_type"
   ]
  },
  {
   "cell_type": "code",
   "execution_count": 21,
   "metadata": {},
   "outputs": [],
   "source": [
    "cursor = queens_restaurants.tap()"
   ]
  },
  {
   "cell_type": "code",
   "execution_count": 22,
   "metadata": {},
   "outputs": [
    {
     "data": {
      "text/plain": [
       "<pymongo.cursor.Cursor at 0x10be04dd8>"
      ]
     },
     "execution_count": 22,
     "metadata": {},
     "output_type": "execute_result"
    }
   ],
   "source": [
    "cursor"
   ]
  },
  {
   "cell_type": "code",
   "execution_count": 23,
   "metadata": {},
   "outputs": [
    {
     "data": {
      "text/plain": [
       "{'_id': ObjectId('59e8a02a297efbb3162667f3'),\n",
       " 'address': {'building': '97-22',\n",
       "  'coord': [-73.8601152, 40.7311739],\n",
       "  'street': '63 Road',\n",
       "  'zipcode': '11374'},\n",
       " 'borough': 'Queens',\n",
       " 'cuisine': 'Jewish/Kosher',\n",
       " 'grades': [{'date': datetime.datetime(2014, 11, 24, 0, 0),\n",
       "   'grade': 'Z',\n",
       "   'score': 20},\n",
       "  {'date': datetime.datetime(2013, 1, 17, 0, 0), 'grade': 'A', 'score': 13},\n",
       "  {'date': datetime.datetime(2012, 8, 2, 0, 0), 'grade': 'A', 'score': 13},\n",
       "  {'date': datetime.datetime(2011, 12, 15, 0, 0), 'grade': 'B', 'score': 25}],\n",
       " 'name': 'Tov Kosher Kitchen',\n",
       " 'restaurant_id': '40356068'}"
      ]
     },
     "execution_count": 23,
     "metadata": {},
     "output_type": "execute_result"
    }
   ],
   "source": [
    "cursor.next()"
   ]
  },
  {
   "cell_type": "markdown",
   "metadata": {},
   "source": [
    "### Parameterized Queries"
   ]
  },
  {
   "cell_type": "code",
   "execution_count": 24,
   "metadata": {},
   "outputs": [],
   "source": [
    "def getter(field_name):\n",
    "    return lambda **kwargs: kwargs[field_name]"
   ]
  },
  {
   "cell_type": "code",
   "execution_count": 25,
   "metadata": {},
   "outputs": [],
   "source": [
    "zipcode_range = examp.query(\n",
    "    {\"address.zipcode\": {\n",
    "        \"$gte\": getter(\"min_val\"), \"$lte\": getter(\"max_val\")\n",
    "    }},\n",
    "    identifier=\"zipcode_range\"\n",
    ")"
   ]
  },
  {
   "cell_type": "code",
   "execution_count": 26,
   "metadata": {},
   "outputs": [
    {
     "data": {
      "text/plain": [
       "MongoDB query DataSource: shleem_test_server.shleem_test.example_data_collection.zipcode_range"
      ]
     },
     "execution_count": 26,
     "metadata": {},
     "output_type": "execute_result"
    }
   ],
   "source": [
    "zipcode_range"
   ]
  },
  {
   "cell_type": "code",
   "execution_count": 27,
   "metadata": {},
   "outputs": [],
   "source": [
    "cursor = zipcode_range.tap(min_val=\"11249\", max_val=\"11300\")"
   ]
  },
  {
   "cell_type": "code",
   "execution_count": 28,
   "metadata": {},
   "outputs": [],
   "source": [
    "res = [doc for doc in cursor]"
   ]
  },
  {
   "cell_type": "code",
   "execution_count": 29,
   "metadata": {},
   "outputs": [
    {
     "data": {
      "text/plain": [
       "163"
      ]
     },
     "execution_count": 29,
     "metadata": {},
     "output_type": "execute_result"
    }
   ],
   "source": [
    "len(res)"
   ]
  },
  {
   "cell_type": "code",
   "execution_count": 30,
   "metadata": {},
   "outputs": [
    {
     "data": {
      "text/plain": [
       "{'_id': ObjectId('59e8a02a297efbb316266920'),\n",
       " 'address': {'building': '188',\n",
       "  'coord': [-73.9581492, 40.7177363],\n",
       "  'street': 'Bedford Avenue',\n",
       "  'zipcode': '11249'},\n",
       " 'borough': 'Brooklyn',\n",
       " 'cuisine': 'American',\n",
       " 'grades': [{'date': datetime.datetime(2014, 3, 19, 0, 0),\n",
       "   'grade': 'A',\n",
       "   'score': 12},\n",
       "  {'date': datetime.datetime(2013, 3, 21, 0, 0), 'grade': 'A', 'score': 12},\n",
       "  {'date': datetime.datetime(2012, 3, 15, 0, 0), 'grade': 'A', 'score': 10},\n",
       "  {'date': datetime.datetime(2011, 10, 13, 0, 0), 'grade': 'B', 'score': 14}],\n",
       " 'name': 'Greenpoint Tavern',\n",
       " 'restaurant_id': '40370342'}"
      ]
     },
     "execution_count": 30,
     "metadata": {},
     "output_type": "execute_result"
    }
   ],
   "source": [
    "res[0]"
   ]
  },
  {
   "cell_type": "markdown",
   "metadata": {},
   "source": [
    "### Aggregation"
   ]
  },
  {
   "cell_type": "code",
   "execution_count": 31,
   "metadata": {},
   "outputs": [],
   "source": [
    "agg_pipeline = [\n",
    "    {'$group': {'_id': '$borough', 'count': {'$sum': 1}}},\n",
    "]"
   ]
  },
  {
   "cell_type": "code",
   "execution_count": 32,
   "metadata": {},
   "outputs": [],
   "source": [
    "borough_counts = examp.aggregation(agg_pipeline)"
   ]
  },
  {
   "cell_type": "code",
   "execution_count": 33,
   "metadata": {},
   "outputs": [
    {
     "data": {
      "text/plain": [
       "'MongoDB aggregation DataSource: shleem_test_server.shleem_test.example_data_collection.7098918b9417525bcb7126c8978ad3c10ac4a352a2238d3e614cfcd50b6b82bc'"
      ]
     },
     "execution_count": 33,
     "metadata": {},
     "output_type": "execute_result"
    }
   ],
   "source": [
    "repr(borough_counts)"
   ]
  },
  {
   "cell_type": "code",
   "execution_count": 34,
   "metadata": {},
   "outputs": [
    {
     "data": {
      "text/plain": [
       "'shleem_test_server.shleem_test.example_data_collection.7098918b9417525bcb7126c8978ad3c10ac4a352a2238d3e614cfcd50b6b82bc'"
      ]
     },
     "execution_count": 34,
     "metadata": {},
     "output_type": "execute_result"
    }
   ],
   "source": [
    "borough_counts.identifier"
   ]
  },
  {
   "cell_type": "code",
   "execution_count": 35,
   "metadata": {},
   "outputs": [
    {
     "name": "stdout",
     "output_type": "stream",
     "text": [
      "[{'$group': {'_id': '$borough', 'count': {'$sum': 1}}}]\n"
     ]
    }
   ],
   "source": [
    "cursor = borough_counts.tap()"
   ]
  },
  {
   "cell_type": "code",
   "execution_count": 36,
   "metadata": {},
   "outputs": [
    {
     "data": {
      "text/plain": [
       "[{'_id': 'Missing', 'count': 51},\n",
       " {'_id': 'Manhattan', 'count': 10259},\n",
       " {'_id': 'Brooklyn', 'count': 6086},\n",
       " {'_id': 'Staten Island', 'count': 969},\n",
       " {'_id': 'Queens', 'count': 5656},\n",
       " {'_id': 'Bronx', 'count': 2338}]"
      ]
     },
     "execution_count": 36,
     "metadata": {},
     "output_type": "execute_result"
    }
   ],
   "source": [
    "[doc for doc in cursor]"
   ]
  },
  {
   "cell_type": "markdown",
   "metadata": {},
   "source": [
    "### Parameterized Aggregations"
   ]
  },
  {
   "cell_type": "code",
   "execution_count": 37,
   "metadata": {},
   "outputs": [],
   "source": [
    "param_agg = [\n",
    "    {\"$match\": {\"address.zipcode\": {\"$gte\": \"11695\"}}},\n",
    "    {\"$unwind\": \"$grades\"},\n",
    "    {\"$group\": {\"_id\": {\"name\": \"$name\", \"address\": \"$address\"}, \"sum_score\": {\"$sum\": \"$grades.score\"}, \"num_score\": {\"$sum\": 1}}},\n",
    "    {\"$project\": {\"_id\": 1, \"avg_score\": {\"$divide\": [\"$sum_score\", \"$num_score\"]}}},\n",
    "    {\"$match\": {\"avg_score\": {\"$gt\": lambda **kwargs: kwargs[\"avg_score_threshold\"]}}}\n",
    "]"
   ]
  },
  {
   "cell_type": "code",
   "execution_count": 38,
   "metadata": {},
   "outputs": [],
   "source": [
    "by_avg_score_threshold = examp.aggregation(param_agg)"
   ]
  },
  {
   "cell_type": "code",
   "execution_count": 39,
   "metadata": {},
   "outputs": [
    {
     "data": {
      "text/plain": [
       "MongoDB aggregation DataSource: shleem_test_server.shleem_test.example_data_collection.restaurant_by_avg_score_threshold"
      ]
     },
     "execution_count": 39,
     "metadata": {},
     "output_type": "execute_result"
    }
   ],
   "source": [
    "by_avg_score_threshold = examp.aggregation(param_agg, \"restaurant_by_avg_score_threshold\")\n",
    "by_avg_score_threshold"
   ]
  },
  {
   "cell_type": "code",
   "execution_count": 40,
   "metadata": {},
   "outputs": [
    {
     "name": "stdout",
     "output_type": "stream",
     "text": [
      "[{'$match': {'address.zipcode': {'$gte': '11695'}}}, {'$unwind': '$grades'}, {'$group': {'_id': {'name': '$name', 'address': '$address'}, 'sum_score': {'$sum': '$grades.score'}, 'num_score': {'$sum': 1}}}, {'$project': {'_id': 1, 'avg_score': {'$divide': ['$sum_score', '$num_score']}}}, {'$match': {'avg_score': {'$gt': 13.5}}}]\n"
     ]
    }
   ],
   "source": [
    "cursor = by_avg_score_threshold.tap(avg_score_threshold=13.5)"
   ]
  },
  {
   "cell_type": "code",
   "execution_count": 41,
   "metadata": {},
   "outputs": [
    {
     "data": {
      "text/plain": [
       "{'_id': {'address': {'building': '202-20',\n",
       "   'coord': [-73.88648210000001, 40.5666985],\n",
       "   'street': 'Rockaway Point Boulevard',\n",
       "   'zipcode': '11697'},\n",
       "  'name': 'Country Heart Cooking'},\n",
       " 'avg_score': 14.4}"
      ]
     },
     "execution_count": 41,
     "metadata": {},
     "output_type": "execute_result"
    }
   ],
   "source": [
    "cursor.next()"
   ]
  },
  {
   "cell_type": "markdown",
   "metadata": {},
   "source": [
    "### parameterized aggregation with a callable in a list..."
   ]
  },
  {
   "cell_type": "code",
   "execution_count": 42,
   "metadata": {},
   "outputs": [],
   "source": [
    "param_agg2 = [\n",
    "    {\"$match\": {\"address.zipcode\": {\"$gte\": \"11695\"}}},\n",
    "    {\"$unwind\": \"$grades\"},\n",
    "    {\"$group\": {\"_id\": {\"name\": \"$name\", \"address\": \"$address\"}, \"sum_score\": {\"$sum\": \"$grades.score\"}}},\n",
    "    {\"$project\": {\"_id\": 1, \"avg_score\": {\"$divide\": [\"$sum_score\", getter(\"normalizer\")]}}},\n",
    "    {\"$match\": {\"avg_score\": {\"$gt\": lambda **kwargs: kwargs[\"avg_score_threshold\"]}}}\n",
    "]"
   ]
  },
  {
   "cell_type": "code",
   "execution_count": 43,
   "metadata": {},
   "outputs": [],
   "source": [
    "by_norm_score_threshold = examp.aggregation(param_agg2)"
   ]
  },
  {
   "cell_type": "code",
   "execution_count": 49,
   "metadata": {},
   "outputs": [],
   "source": [
    "thresh2 = 13.5"
   ]
  },
  {
   "cell_type": "code",
   "execution_count": 50,
   "metadata": {},
   "outputs": [
    {
     "name": "stdout",
     "output_type": "stream",
     "text": [
      "[{'$match': {'address.zipcode': {'$gte': '11695'}}}, {'$unwind': '$grades'}, {'$group': {'_id': {'name': '$name', 'address': '$address'}, 'sum_score': {'$sum': '$grades.score'}}}, {'$project': {'_id': 1, 'avg_score': {'$divide': ['$sum_score', 4]}}}, {'$match': {'avg_score': {'$gt': 13.5}}}]\n"
     ]
    }
   ],
   "source": [
    "cursor = by_norm_score_threshold.tap(avg_score_threshold=thresh2, normalizer=4)"
   ]
  },
  {
   "cell_type": "code",
   "execution_count": 51,
   "metadata": {},
   "outputs": [],
   "source": [
    "all_res = [doc for doc in cursor]"
   ]
  },
  {
   "cell_type": "code",
   "execution_count": 52,
   "metadata": {},
   "outputs": [
    {
     "data": {
      "text/plain": [
       "2"
      ]
     },
     "execution_count": 52,
     "metadata": {},
     "output_type": "execute_result"
    }
   ],
   "source": [
    "len(all_res)"
   ]
  },
  {
   "cell_type": "code",
   "execution_count": 53,
   "metadata": {},
   "outputs": [
    {
     "data": {
      "text/plain": [
       "[{'_id': {'address': {'building': '202-20',\n",
       "    'coord': [-73.88648210000001, 40.5666985],\n",
       "    'street': 'Rockaway Point Boulevard',\n",
       "    'zipcode': '11697'},\n",
       "   'name': 'Country Heart Cooking'},\n",
       "  'avg_score': 18.0},\n",
       " {'_id': {'address': {'building': '202-24',\n",
       "    'coord': [-73.9250442, 40.5595462],\n",
       "    'street': 'Rockaway Point Boulevard',\n",
       "    'zipcode': '11697'},\n",
       "   'name': 'Blarney Castle'},\n",
       "  'avg_score': 16.25}]"
      ]
     },
     "execution_count": 53,
     "metadata": {},
     "output_type": "execute_result"
    }
   ],
   "source": [
    "all_res"
   ]
  },
  {
   "cell_type": "code",
   "execution_count": null,
   "metadata": {},
   "outputs": [],
   "source": []
  }
 ],
 "metadata": {
  "kernelspec": {
   "display_name": "Python 3",
   "language": "python",
   "name": "python3"
  },
  "language_info": {
   "codemirror_mode": {
    "name": "ipython",
    "version": 3
   },
   "file_extension": ".py",
   "mimetype": "text/x-python",
   "name": "python",
   "nbconvert_exporter": "python",
   "pygments_lexer": "ipython3",
   "version": "3.6.2"
  }
 },
 "nbformat": 4,
 "nbformat_minor": 2
}
