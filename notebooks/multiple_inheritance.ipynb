{
 "cells": [
  {
   "cell_type": "markdown",
   "metadata": {},
   "source": [
    "# Experimenting with multiple inheritance"
   ]
  },
  {
   "cell_type": "code",
   "execution_count": null,
   "metadata": {},
   "outputs": [],
   "source": [
    "class CommonAncestor(object):\n",
    "    def __init__(self):\n",
    "        print(\"Common, ya'll!\")"
   ]
  },
  {
   "cell_type": "code",
   "execution_count": null,
   "metadata": {},
   "outputs": [],
   "source": [
    "class AlphaPapa(CommonAncestor):\n",
    "    def __init__(self):\n",
    "        super().__init__()\n",
    "        print(\"Alpha Papa here!\")"
   ]
  },
  {
   "cell_type": "code",
   "execution_count": null,
   "metadata": {},
   "outputs": [],
   "source": [
    "class SecondPapi(CommonAncestor):\n",
    "    def __init__(self):\n",
    "        super().__init__()\n",
    "        print(\"Ayeeee!!\")"
   ]
  },
  {
   "cell_type": "code",
   "execution_count": null,
   "metadata": {},
   "outputs": [],
   "source": [
    "class Chikito(AlphaPapa, SecondPapi):\n",
    "    def __init__(self):\n",
    "        print(\"Hola chikitas!\")\n",
    "        super().__init__()"
   ]
  },
  {
   "cell_type": "code",
   "execution_count": null,
   "metadata": {},
   "outputs": [],
   "source": [
    "Chikito()"
   ]
  },
  {
   "cell_type": "markdown",
   "metadata": {},
   "source": [
    "## Explicit super calls"
   ]
  },
  {
   "cell_type": "code",
   "execution_count": 1,
   "metadata": {},
   "outputs": [],
   "source": [
    "class CommonAncestor(object):\n",
    "    def __init__(self, value):\n",
    "        self.value = value\n",
    "        print(\"Common, ya'll!\")\n",
    "    def show_value(self):\n",
    "        print(self.value)"
   ]
  },
  {
   "cell_type": "code",
   "execution_count": 7,
   "metadata": {},
   "outputs": [],
   "source": [
    "class AlphaPapa(CommonAncestor):\n",
    "    def __init__(self):\n",
    "        CommonAncestor.__init__(self,1)\n",
    "        print(\"Alpha Papa here!\")"
   ]
  },
  {
   "cell_type": "code",
   "execution_count": 17,
   "metadata": {},
   "outputs": [],
   "source": [
    "class SecondPapi(CommonAncestor):\n",
    "    def __init__(self, second_val):\n",
    "        CommonAncestor.__init__(self, 2)\n",
    "        print(\"Ayeeee!!\")\n",
    "        self.second_val = second_val\n",
    "    def second(self):\n",
    "        print(\"Second! {}\".format(self.value))\n",
    "        print(\"And: {}\".format(self.second_val))"
   ]
  },
  {
   "cell_type": "code",
   "execution_count": 20,
   "metadata": {},
   "outputs": [],
   "source": [
    "class ExplicitChikito(AlphaPapa, SecondPapi):\n",
    "    def __init__(self):\n",
    "        print(\"Hola chikitas!\")\n",
    "        AlphaPapa.__init__(self)\n",
    "        SecondPapi.__init__(self,80)"
   ]
  },
  {
   "cell_type": "code",
   "execution_count": 21,
   "metadata": {},
   "outputs": [
    {
     "name": "stdout",
     "output_type": "stream",
     "text": [
      "Hola chikitas!\n",
      "Common, ya'll!\n",
      "Alpha Papa here!\n",
      "Common, ya'll!\n",
      "Ayeeee!!\n"
     ]
    }
   ],
   "source": [
    "chik = ExplicitChikito()"
   ]
  },
  {
   "cell_type": "code",
   "execution_count": 22,
   "metadata": {},
   "outputs": [
    {
     "name": "stdout",
     "output_type": "stream",
     "text": [
      "2\n"
     ]
    }
   ],
   "source": [
    "chik.show_value()"
   ]
  },
  {
   "cell_type": "code",
   "execution_count": 23,
   "metadata": {},
   "outputs": [
    {
     "name": "stdout",
     "output_type": "stream",
     "text": [
      "Second! 2\n",
      "And: 80\n"
     ]
    }
   ],
   "source": [
    "chik.second()"
   ]
  },
  {
   "cell_type": "code",
   "execution_count": null,
   "metadata": {},
   "outputs": [],
   "source": []
  }
 ],
 "metadata": {
  "kernelspec": {
   "display_name": "Python 3",
   "language": "python",
   "name": "python3"
  },
  "language_info": {
   "codemirror_mode": {
    "name": "ipython",
    "version": 3
   },
   "file_extension": ".py",
   "mimetype": "text/x-python",
   "name": "python",
   "nbconvert_exporter": "python",
   "pygments_lexer": "ipython3",
   "version": "3.6.2"
  }
 },
 "nbformat": 4,
 "nbformat_minor": 2
}
